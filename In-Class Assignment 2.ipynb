{
 "cells": [
  {
   "cell_type": "markdown",
   "id": "dc42e7cb",
   "metadata": {},
   "source": [
    "# In-Class Assignment"
   ]
  },
  {
   "cell_type": "markdown",
   "id": "52fec906",
   "metadata": {},
   "source": [
    "**Group:** 7"
   ]
  },
  {
   "cell_type": "markdown",
   "id": "2c7f9ae4",
   "metadata": {},
   "source": [
    "**Temporal Coding**\n",
    "Temporal coding refers to the representation of information in the timing or temporal patterns of neural spikes. In this coding scheme, information is encoded based on the precise timing of action potentials (spikes) in a neuron. Temporal coding is often used in scenarios where the timing of spikes carries relevant information, such as in auditory processing.\n",
    "\n",
    "**Rate Coding**\n",
    "Rate coding, on the other hand, involves representing information through the frequency or rate of neural spikes. The information is encoded by the number of spikes within a given time window. Neurons using rate coding fire at different rates depending on the strength or intensity of the input stimulus. This coding mechanism is common in various sensory and motor processes.\n",
    "\n",
    "**Latency Coding**\n",
    "Latency coding is associated with the time delay or latency between the onset of a stimulus and the occurrence of a neural response. Neurons may exhibit different latencies in response to stimuli of varying intensity or modality. Latency coding is often observed in sensory systems.\n",
    "\n",
    "**Synchronous Coding**\n",
    "Synchronous coding involves the coordination of multiple neurons to fire action potentials simultaneously in response to a specific stimulus. Synchronous firing patterns are thought to contribute to the coding of specific features or events. This type of coding is prevalent in neural networks and is associated with information processing and integration.\n",
    "\n",
    "**Tuning Curves**\n",
    "Tuning curves represent the relationship between a neuron's response and the parameter of a stimulus. For example, in sensory neurons, tuning curves illustrate how the firing rate of a neuron changes with different stimulus intensities or orientations. Tuning curves provide insights into the preferences of neurons for specific stimulus features.\n",
    "\n",
    "**Population Codes**\n",
    "Population coding involves the combined activity of a population of neurons to represent information. Rather than relying on the activity of individual neurons, the distributed pattern of activity across a population is used to encode features or stimuli. This coding strategy enhances the robustness and reliability of information representation."
   ]
  },
  {
   "cell_type": "code",
   "execution_count": null,
   "id": "9cd7e5ae",
   "metadata": {},
   "outputs": [],
   "source": []
  }
 ],
 "metadata": {
  "kernelspec": {
   "display_name": "Python 3 (ipykernel)",
   "language": "python",
   "name": "python3"
  },
  "language_info": {
   "codemirror_mode": {
    "name": "ipython",
    "version": 3
   },
   "file_extension": ".py",
   "mimetype": "text/x-python",
   "name": "python",
   "nbconvert_exporter": "python",
   "pygments_lexer": "ipython3",
   "version": "3.10.9"
  }
 },
 "nbformat": 4,
 "nbformat_minor": 5
}
